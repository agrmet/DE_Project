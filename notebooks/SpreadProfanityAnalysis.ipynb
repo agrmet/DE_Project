{
 "cells": [
  {
   "cell_type": "markdown",
   "source": [
    "# Spread Profanity Analysis\n",
    "\n",
    "**Author:** Simon Pislar\n",
    "\n",
    "**Date Created:** March 14, 2024\n",
    "\n",
    "**Description:** This notebook analyzes the spread of profanity across Reddit users and subreddits. It uses a dataset of profanity words and a dataset of Reddit posts to find the top 20 users who have used profanity across the most subreddits.\n",
    "\n",
    "**Output:** The top 20 users with profanity across the most subreddits."
   ],
   "metadata": {
    "collapsed": false
   },
   "id": "1ec74b6881761d1"
  },
  {
   "cell_type": "code",
   "execution_count": null,
   "id": "initial_id",
   "metadata": {
    "collapsed": true
   },
   "outputs": [],
   "source": [
    "from pyspark.sql import SparkSession\n",
    "from pyspark.sql.functions import col, lower, explode, split, countDistinct, broadcast\n",
    "\n",
    "#Initialize Spark session\n",
    "spark_session = SparkSession.builder\\\n",
    "        .master(\"spark://192.168.2.193:7077\") \\\n",
    "        .appName(\"Spread_Profanity_Analysis\")\\\n",
    "        .config(\"spark.dynamicAllocation.enabled\", True)\\\n",
    "        .config(\"spark.dynamicAllocation.shuffleTracking.enabled\",True)\\\n",
    "        .config(\"spark.shuffle.service.enabled\", False)\\\n",
    "        .config(\"spark.dynamicAllocation.executorIdleTimeout\",\"30s\")\\\n",
    "        .config(\"spark.executor.cores\", 2)\\\n",
    "        .config(\"spark.driver.port\",9999)\\\n",
    "        .config(\"spark.blockManager.port\",10005)\\\n",
    "        .getOrCreate()\n",
    "\n",
    "#Define the spark context\n",
    "spark_context = spark_session.sparkContext\n",
    "#Set log level\n",
    "spark_context.setLogLevel(\"ERROR\")"
   ]
  },
  {
   "cell_type": "code",
   "execution_count": null,
   "outputs": [],
   "source": [
    "# Load the profanity dataset\n",
    "profanity_df = spark_session.read.csv(\"file:///home/ubuntu/profanity/profanity_en.csv\", \n",
    "                                   header=True, inferSchema=True).select(\"text\", \"severity_rating\")\n",
    "\n",
    "# Load the Reddit dataset\n",
    "reddit_df = spark_session.read.json(\"file:///home/ubuntu/volume/reddit/corpus-webis-tldr-17.json\")\n"
   ],
   "metadata": {
    "collapsed": false,
    "is_executing": true
   },
   "id": "c180cc707be0824b"
  },
  {
   "cell_type": "code",
   "execution_count": null,
   "outputs": [],
   "source": [
    "# Tokenize the Reddit dataset\n",
    "reddit_tokenized = reddit_df.withColumn(\"words\", explode(split(lower(col(\"body\")), \"\\\\W+\")))\n",
    "\n",
    "# Filter for Reddit posts that contain profanity\n",
    "reddit_profanity = reddit_tokenized.join(broadcast(profanity_df), col(\"words\") == col(\"text\"), \"inner\")\n",
    "\n",
    "# Count distinct subreddits for each author\n",
    "author_subreddit_count = reddit_profanity.groupBy(\"author\") \\\n",
    "                                         .agg(countDistinct(\"subreddit\").alias(\"subreddit_count\"))\n"
   ],
   "metadata": {
    "collapsed": false,
    "is_executing": true
   },
   "id": "8caf06e55d41384"
  },
  {
   "cell_type": "code",
   "execution_count": null,
   "outputs": [],
   "source": [
    "# Get the top 20 users with profanity across the most subreddits\n",
    "top_users = author_subreddit_count.orderBy(col(\"subreddit_count\").desc()).limit(20)\n",
    "\n",
    "top_users.show()"
   ],
   "metadata": {
    "collapsed": false,
    "is_executing": true
   },
   "id": "66fba0bfeead5c07"
  },
  {
   "cell_type": "code",
   "execution_count": null,
   "outputs": [],
   "source": [
    "# Finish the job\n",
    "spark_session.stop()"
   ],
   "metadata": {
    "collapsed": false,
    "is_executing": true
   },
   "id": "d7008ebea237cd"
  }
 ],
 "metadata": {
  "kernelspec": {
   "display_name": "Python 3",
   "language": "python",
   "name": "python3"
  },
  "language_info": {
   "codemirror_mode": {
    "name": "ipython",
    "version": 2
   },
   "file_extension": ".py",
   "mimetype": "text/x-python",
   "name": "python",
   "nbconvert_exporter": "python",
   "pygments_lexer": "ipython2",
   "version": "2.7.6"
  }
 },
 "nbformat": 4,
 "nbformat_minor": 5
}
