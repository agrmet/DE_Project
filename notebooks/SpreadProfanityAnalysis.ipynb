{
 "cells": [
  {
   "cell_type": "markdown",
   "source": [
    "# Spread Profanity Analysis\n",
    "\n",
    "**Author:** Simon Pislar\n",
    "\n",
    "**Date Created:** March 14, 2024\n",
    "\n",
    "**Description:** This notebook analyzes the spread of profanity across Reddit users and subreddits. It uses a dataset of profanity words and a dataset of Reddit posts to find the top 20 users who have used profanity across the most subreddits.\n",
    "\n",
    "**Output:** The top 20 users with profanity across the most subreddits."
   ],
   "metadata": {
    "collapsed": false
   },
   "id": "8d5e19505f301550"
  },
  {
   "cell_type": "code",
   "execution_count": 1,
   "id": "initial_id",
   "metadata": {},
   "outputs": [
    {
     "name": "stderr",
     "output_type": "stream",
     "text": [
      "Setting default log level to \"WARN\".\n",
      "To adjust logging level use sc.setLogLevel(newLevel). For SparkR, use setLogLevel(newLevel).\n",
      "24/03/14 03:12:57 WARN NativeCodeLoader: Unable to load native-hadoop library for your platform... using builtin-java classes where applicable\n"
     ]
    }
   ],
   "source": [
    "from pyspark.sql import SparkSession\n",
    "from pyspark.sql.functions import col, lower, explode, split, countDistinct, broadcast\n",
    "\n",
    "#Init Spark session\n",
    "spark_session = SparkSession.builder\\\n",
    "        .master(\"spark://group3-master:7077\") \\\n",
    "        .appName(\"Spread_Profanity_Analysis\")\\\n",
    "        .getOrCreate()\n",
    "\n",
    "#Get Spark context\n",
    "spark_context = spark_session.sparkContext\n",
    "#Set log level to error\n",
    "spark_context.setLogLevel(\"ERROR\")"
   ]
  },
  {
   "cell_type": "code",
   "execution_count": 2,
   "id": "c180cc707be0824b",
   "metadata": {
    "collapsed": false
   },
   "outputs": [
    {
     "name": "stderr",
     "output_type": "stream",
     "text": [
      "                                                                                \r"
     ]
    }
   ],
   "source": [
    "# Load the profanity dataset\n",
    "profanity_df = spark_session.read.csv(\"file:///home/ubuntu/profanity/profanity_en.csv\", \n",
    "                                   header=True, inferSchema=True).select(\"text\", \"severity_rating\")\n",
    "\n",
    "# Load the Reddit dataset\n",
    "reddit_df = spark_session.read.json(\"file:///home/ubuntu/volume/reddit/corpus-webis-tldr-17.json\")\n"
   ]
  },
  {
   "cell_type": "code",
   "execution_count": 3,
   "id": "8caf06e55d41384",
   "metadata": {
    "collapsed": false
   },
   "outputs": [],
   "source": [
    "# Tokenize the 'body' field\n",
    "reddit_tokenized = reddit_df.withColumn(\"words\", explode(split(lower(col(\"body\")), \"\\\\W+\")))\n",
    "\n",
    "# Filter for profanity\n",
    "reddit_profanity = reddit_tokenized.join(broadcast(profanity_df), col(\"words\") == col(\"text\"), \"inner\")\n",
    "\n",
    "# Count distinct subreddits for each author\n",
    "author_subreddit_count = reddit_profanity.groupBy(\"author\") \\\n",
    "                                         .agg(countDistinct(\"subreddit\").alias(\"subreddit_count\"))\n"
   ]
  },
  {
   "cell_type": "code",
   "execution_count": 4,
   "id": "66fba0bfeead5c07",
   "metadata": {
    "collapsed": false
   },
   "outputs": [
    {
     "name": "stderr",
     "output_type": "stream",
     "text": [
      "                                                                                \r"
     ]
    },
    {
     "name": "stdout",
     "output_type": "stream",
     "text": [
      "+----------------+---------------+\n",
      "|          author|subreddit_count|\n",
      "+----------------+---------------+\n",
      "|       [deleted]|           4525|\n",
      "|         DejaBoo|            103|\n",
      "|      FrankManic|             61|\n",
      "|     Death_Star_|             56|\n",
      "|     herman_gill|             56|\n",
      "|      Shaper_pmp|             45|\n",
      "|Rancid_Bear_Meat|             44|\n",
      "|      Batty-Koda|             38|\n",
      "|       kleinbl00|             37|\n",
      "|          mauxly|             36|\n",
      "|    backnblack92|             36|\n",
      "|      CocoSavege|             35|\n",
      "|    HittingSmoke|             35|\n",
      "|      well_golly|             35|\n",
      "|  ldonthaveaname|             35|\n",
      "|            KoNP|             34|\n",
      "|      Stingray88|             33|\n",
      "|   use_more_lube|             32|\n",
      "|       AngryData|             32|\n",
      "|      ATomatoAmI|             31|\n",
      "+----------------+---------------+\n"
     ]
    }
   ],
   "source": [
    "# Get the top 20 users with profanity across the most subreddits\n",
    "top_users = author_subreddit_count.orderBy(col(\"subreddit_count\").desc()).limit(20)\n",
    "\n",
    "top_users.show()"
   ]
  },
  {
   "cell_type": "code",
   "execution_count": null,
   "id": "d7008ebea237cd",
   "metadata": {
    "collapsed": false
   },
   "outputs": [],
   "source": [
    "# Clean up resources\n",
    "spark_session.stop()"
   ]
  }
 ],
 "metadata": {
  "kernelspec": {
   "display_name": "Python 3 (ipykernel)",
   "language": "python",
   "name": "python3"
  },
  "language_info": {
   "codemirror_mode": {
    "name": "ipython",
    "version": 3
   },
   "file_extension": ".py",
   "mimetype": "text/x-python",
   "name": "python",
   "nbconvert_exporter": "python",
   "pygments_lexer": "ipython3",
   "version": "3.8.10"
  }
 },
 "nbformat": 4,
 "nbformat_minor": 5
}
