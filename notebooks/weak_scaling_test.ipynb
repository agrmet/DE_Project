{
 "cells": [
  {
   "cell_type": "markdown",
   "id": "fc6ecec5-16ae-4b35-b51b-37647eb2acc2",
   "metadata": {},
   "source": [
    "# Weak Scaling Test for Spark Cluster\n",
    "\n",
    "**Author**: Noah Wassberg\n",
    "\n",
    "**Date Created**: March 7, 2024\n",
    "\n",
    "**Description**: \n",
    "**Description**: \n",
    "This notebook performs a weak scaling test on our Spark cluster by increasing the workload in direct proportion to the number of executors. The aim is to maintain a constant workload per executor as the total number of executors increases, thereby evaluating the cluster's ability to handle larger datasets without degrading performance per unit of computation.\n",
    "\n",
    "**Output**:\n",
    "The output of this notebook includes the execution times corresponding to different numbers of cores used, providing insights into the scaling efficiency of the Spark cluster."
   ]
  },
  {
   "cell_type": "code",
   "execution_count": 1,
   "id": "d5be6103-d36a-4f9d-9e11-4ba21f18afa8",
   "metadata": {},
   "outputs": [
    {
     "name": "stderr",
     "output_type": "stream",
     "text": [
      "Setting default log level to \"WARN\".\n",
      "To adjust logging level use sc.setLogLevel(newLevel). For SparkR, use setLogLevel(newLevel).\n",
      "24/03/07 09:34:58 WARN NativeCodeLoader: Unable to load native-hadoop library for your platform... using builtin-java classes where applicable\n",
      "24/03/07 09:35:21 WARN TaskSchedulerImpl: Initial job has not accepted any resources; check your cluster UI to ensure that workers are registered and have sufficient resources\n",
      "                                                                                \r"
     ]
    },
    {
     "name": "stdout",
     "output_type": "stream",
     "text": [
      "+-------------+-----------------+\n",
      "|    subreddit|content_len_value|\n",
      "+-------------+-----------------+\n",
      "|relationships|         85356273|\n",
      "+-------------+-----------------+\n",
      "only showing top 1 row\n",
      "\n",
      "Number of Executors: 1, Time Taken: 215.00452399253845 seconds\n"
     ]
    },
    {
     "name": "stderr",
     "output_type": "stream",
     "text": [
      "24/03/07 09:38:52 WARN TaskSchedulerImpl: Initial job has not accepted any resources; check your cluster UI to ensure that workers are registered and have sufficient resources\n",
      "                                                                                \r"
     ]
    },
    {
     "name": "stdout",
     "output_type": "stream",
     "text": [
      "+-------------+-----------------+\n",
      "|    subreddit|content_len_value|\n",
      "+-------------+-----------------+\n",
      "|relationships|        170712546|\n",
      "+-------------+-----------------+\n",
      "only showing top 1 row\n",
      "\n",
      "Number of Executors: 2, Time Taken: 270.01586508750916 seconds\n"
     ]
    },
    {
     "name": "stderr",
     "output_type": "stream",
     "text": [
      "24/03/07 09:43:22 WARN TaskSchedulerImpl: Initial job has not accepted any resources; check your cluster UI to ensure that workers are registered and have sufficient resources\n",
      "24/03/07 09:43:37 WARN TaskSchedulerImpl: Initial job has not accepted any resources; check your cluster UI to ensure that workers are registered and have sufficient resources\n",
      "                                                                                \r"
     ]
    },
    {
     "name": "stdout",
     "output_type": "stream",
     "text": [
      "+-------------+-----------------+\n",
      "|    subreddit|content_len_value|\n",
      "+-------------+-----------------+\n",
      "|relationships|        341425092|\n",
      "+-------------+-----------------+\n",
      "only showing top 1 row\n",
      "\n",
      "Number of Executors: 4, Time Taken: 472.54664492607117 seconds\n"
     ]
    },
    {
     "name": "stderr",
     "output_type": "stream",
     "text": [
      "24/03/07 09:51:15 WARN TaskSchedulerImpl: Initial job has not accepted any resources; check your cluster UI to ensure that workers are registered and have sufficient resources\n",
      "                                                                                \r"
     ]
    },
    {
     "name": "stdout",
     "output_type": "stream",
     "text": [
      "+-------------+-----------------+\n",
      "|    subreddit|content_len_value|\n",
      "+-------------+-----------------+\n",
      "|relationships|        682850184|\n",
      "+-------------+-----------------+\n",
      "only showing top 1 row\n",
      "\n",
      "Number of Executors: 8, Time Taken: 883.1078379154205 seconds\n"
     ]
    }
   ],
   "source": [
    "from pyspark.sql import SparkSession\n",
    "from pyspark.sql import functions as F\n",
    "import time\n",
    "\n",
    "def process_data(spark, data_path, num_executors):\n",
    "    #Load reddit dataset\n",
    "    df = spark.read.json(data_path)\n",
    "    #Processing \n",
    "\n",
    "    if num_executors >= 2:\n",
    "        df = df.union(df)\n",
    "        if num_executors >= 4:\n",
    "            df = df.union(df)\n",
    "            if num_executors == 8:\n",
    "                df = df.union(df)\n",
    "    \n",
    "    filtered = df.filter(df[\"summary_len\"] > 30)\n",
    "    grouped = filtered.groupBy(\"subreddit\").agg(F.sum(\"content_len\").alias(\"content_len_value\"))\n",
    "    ordered = grouped.orderBy(grouped[\"content_len_value\"].desc())\n",
    "    #Action to trigger the computation\n",
    "    ordered.show(1)  \n",
    "\n",
    "if __name__ == \"__main__\":\n",
    "    data_path = \"hdfs://192.168.2.193:9000/user/hadoop/input/input/corpus-webis-tldr-17.json\"\n",
    "    master_url = \"spark://192.168.2.193:7077\"\n",
    "    app_name = \"Weak scaling test\"\n",
    "    num_executors_list = [1, 2, 4, 8]\n",
    "\n",
    "    for num_executors in num_executors_list:\n",
    "        # Configure Spark session\n",
    "        spark = SparkSession.builder \\\n",
    "            .master(master_url) \\\n",
    "            .appName(app_name) \\\n",
    "            .config(\"spark.executor.memory\", \"8g\")\\\n",
    "            .config(\"spark.dynamicAllocation.shuffleTracking.enabled\",True)\\\n",
    "            .config(\"spark.shuffle.service.enabled\", False)\\\n",
    "            .config(\"spark.dynamicAllocation.executorIdleTimeout\",\"30s\")\\\n",
    "            .config(\"spark.executor.instances\", str(num_executors)) \\\n",
    "            .getOrCreate()\n",
    "\n",
    "        start_time = time.time()\n",
    "        process_data(spark, data_path, num_executors)\n",
    "        end_time = time.time()\n",
    "\n",
    "        print(f\"Number of Executors: {num_executors}, Time Taken: {end_time - start_time} seconds\")\n",
    "\n",
    "        spark.stop()"
   ]
  }
 ],
 "metadata": {
  "kernelspec": {
   "display_name": "Python 3 (ipykernel)",
   "language": "python",
   "name": "python3"
  },
  "language_info": {
   "codemirror_mode": {
    "name": "ipython",
    "version": 3
   },
   "file_extension": ".py",
   "mimetype": "text/x-python",
   "name": "python",
   "nbconvert_exporter": "python",
   "pygments_lexer": "ipython3",
   "version": "3.8.10"
  }
 },
 "nbformat": 4,
 "nbformat_minor": 5
}
