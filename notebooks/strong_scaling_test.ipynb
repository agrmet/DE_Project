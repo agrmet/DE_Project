{
 "cells": [
  {
   "cell_type": "markdown",
   "id": "1b56d999-7440-4e61-835d-31475823a37b",
   "metadata": {},
   "source": [
    "# Strong Scaling Test for Spark Cluster\n",
    "\n",
    "**Author:** Noah Wassberg\n",
    "\n",
    "**Date Created:** March 6, 2024\n",
    "\n",
    "**Description:** This notebook performs a strong scaling test on our cluster. This is done by doing the same work with a different amount of executors.\n",
    "\n",
    "**Output:**\n",
    "- Execution times for the different numbers of cores used"
   ]
  },
  {
   "cell_type": "code",
   "execution_count": 1,
   "id": "d0f0652a-238d-4a93-b7e1-7814d48d24f0",
   "metadata": {},
   "outputs": [
    {
     "name": "stderr",
     "output_type": "stream",
     "text": [
      "Setting default log level to \"WARN\".\n",
      "To adjust logging level use sc.setLogLevel(newLevel). For SparkR, use setLogLevel(newLevel).\n",
      "24/03/06 10:58:58 WARN NativeCodeLoader: Unable to load native-hadoop library for your platform... using builtin-java classes where applicable\n",
      "                                                                                \r"
     ]
    },
    {
     "name": "stdout",
     "output_type": "stream",
     "text": [
      "+-------------+-----------------+\n",
      "|    subreddit|content_len_value|\n",
      "+-------------+-----------------+\n",
      "|relationships|        170712546|\n",
      "+-------------+-----------------+\n",
      "only showing top 1 row\n",
      "\n",
      "Number of Executors: 1, Time Taken: 238.74418020248413 seconds\n"
     ]
    },
    {
     "name": "stderr",
     "output_type": "stream",
     "text": [
      "24/03/06 11:03:15 WARN TaskSchedulerImpl: Initial job has not accepted any resources; check your cluster UI to ensure that workers are registered and have sufficient resources\n",
      "24/03/06 11:03:30 WARN TaskSchedulerImpl: Initial job has not accepted any resources; check your cluster UI to ensure that workers are registered and have sufficient resources\n",
      "                                                                                \r"
     ]
    },
    {
     "name": "stdout",
     "output_type": "stream",
     "text": [
      "+-------------+-----------------+\n",
      "|    subreddit|content_len_value|\n",
      "+-------------+-----------------+\n",
      "|relationships|        170712546|\n",
      "+-------------+-----------------+\n",
      "only showing top 1 row\n",
      "\n",
      "Number of Executors: 2, Time Taken: 257.9959063529968 seconds\n"
     ]
    },
    {
     "name": "stderr",
     "output_type": "stream",
     "text": [
      "24/03/06 11:07:33 WARN TaskSchedulerImpl: Initial job has not accepted any resources; check your cluster UI to ensure that workers are registered and have sufficient resources\n",
      "                                                                                \r"
     ]
    },
    {
     "name": "stdout",
     "output_type": "stream",
     "text": [
      "+-------------+-----------------+\n",
      "|    subreddit|content_len_value|\n",
      "+-------------+-----------------+\n",
      "|relationships|        170712546|\n",
      "+-------------+-----------------+\n",
      "only showing top 1 row\n",
      "\n",
      "Number of Executors: 4, Time Taken: 264.3424050807953 seconds\n"
     ]
    },
    {
     "name": "stderr",
     "output_type": "stream",
     "text": [
      "24/03/06 11:11:58 WARN TaskSchedulerImpl: Initial job has not accepted any resources; check your cluster UI to ensure that workers are registered and have sufficient resources\n",
      "24/03/06 11:12:13 WARN TaskSchedulerImpl: Initial job has not accepted any resources; check your cluster UI to ensure that workers are registered and have sufficient resources\n",
      "                                                                                \r"
     ]
    },
    {
     "name": "stdout",
     "output_type": "stream",
     "text": [
      "+-------------+-----------------+\n",
      "|    subreddit|content_len_value|\n",
      "+-------------+-----------------+\n",
      "|relationships|        170712546|\n",
      "+-------------+-----------------+\n",
      "only showing top 1 row\n",
      "\n",
      "Number of Executors: 8, Time Taken: 300.2862946987152 seconds\n"
     ]
    }
   ],
   "source": [
    "from pyspark.sql import SparkSession\n",
    "from pyspark.sql import functions as F\n",
    "import time\n",
    "\n",
    "def process_data(spark, data_path):\n",
    "    #Load reddit dataset\n",
    "    df = spark.read.json(data_path)\n",
    "    #Processing \n",
    "    doubled = df.union(df)\n",
    "    filtered = doubled.filter(doubled[\"summary_len\"] > 30)\n",
    "    grouped = filtered.groupBy(\"subreddit\").agg(F.sum(\"content_len\").alias(\"content_len_value\"))\n",
    "    ordered = grouped.orderBy(grouped[\"content_len_value\"].desc())\n",
    "    #Action to trigger the computation\n",
    "    ordered.show(1)  \n",
    "\n",
    "if __name__ == \"__main__\":\n",
    "    data_path = \"hdfs://192.168.2.193:9000/user/hadoop/input/input/corpus-webis-tldr-17.json\"\n",
    "    master_url = \"spark://192.168.2.193:7077\"\n",
    "    app_name = \"Strong scaling test\"\n",
    "    num_executors_list = [1, 2, 4, 8]\n",
    "\n",
    "    for num_executors in num_executors_list:\n",
    "        # Configure Spark session\n",
    "        spark = SparkSession.builder \\\n",
    "            .master(master_url) \\\n",
    "            .appName(app_name) \\\n",
    "            .config(\"spark.executor.memory\", \"8g\")\\\n",
    "            .config(\"spark.dynamicAllocation.shuffleTracking.enabled\",True)\\\n",
    "            .config(\"spark.shuffle.service.enabled\", False)\\\n",
    "            .config(\"spark.dynamicAllocation.executorIdleTimeout\",\"30s\")\\\n",
    "            .config(\"spark.executor.instances\", str(num_executors)) \\\n",
    "            .getOrCreate()\n",
    "\n",
    "        start_time = time.time()\n",
    "        process_data(spark, data_path)\n",
    "        end_time = time.time()\n",
    "\n",
    "        print(f\"Number of Executors: {num_executors}, Time Taken: {end_time - start_time} seconds\")\n",
    "\n",
    "        spark.stop()"
   ]
  },
  {
   "cell_type": "code",
   "execution_count": null,
   "id": "dfe00629-63c5-472e-89ff-074859ff2fa9",
   "metadata": {},
   "outputs": [],
   "source": []
  }
 ],
 "metadata": {
  "kernelspec": {
   "display_name": "Python 3 (ipykernel)",
   "language": "python",
   "name": "python3"
  },
  "language_info": {
   "codemirror_mode": {
    "name": "ipython",
    "version": 3
   },
   "file_extension": ".py",
   "mimetype": "text/x-python",
   "name": "python",
   "nbconvert_exporter": "python",
   "pygments_lexer": "ipython3",
   "version": "3.8.10"
  }
 },
 "nbformat": 4,
 "nbformat_minor": 5
}
